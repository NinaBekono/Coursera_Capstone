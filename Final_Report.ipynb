{
    "nbformat_minor": 1, 
    "cells": [
        {
            "source": "# Final Report on the Coursera Capstone Project", 
            "cell_type": "markdown", 
            "metadata": {
                "collapsed": true
            }
        }, 
        {
            "source": "#### This notebook is abiut the final report on the capstone project. It will contain all the steps of the required exrcise", 
            "cell_type": "markdown", 
            "metadata": {}
        }, 
        {
            "source": "## Introduction/Business Problem", 
            "cell_type": "markdown", 
            "metadata": {}
        }, 
        {
            "source": "The owner of a business like a restaurant needs to fix all the aspects in order to ensure good results. One of the major aspects is the location of the restaurant as if the restaurant is well located, it will have a positive impact in terms of affluence. On the other hand, if the restaurant is badly located, it may negatively impact the restaurant's attendance, then the business recipes. The question is thus \"Where is the best place in the city to install my new restaurant?\"\n\nWe then fall on a descriptive model.\n\nWith the foursqaure API, many things can be explore to locate that place depending of the city. We can explore the venues there, the ratings of these venues. Depending of a venue in the city, we can look at how many restaurants do already exist there? what are their types? what about the trending  venues there? What informations do we get from tips?\n\nThe goal at the end is to cross all tto give a reliable answer to our client who needs to know where to install his restaurant.  \n", 
            "cell_type": "raw", 
            "metadata": {}
        }
    ], 
    "metadata": {
        "kernelspec": {
            "display_name": "Python 3.6", 
            "name": "python3", 
            "language": "python"
        }, 
        "language_info": {
            "mimetype": "text/x-python", 
            "nbconvert_exporter": "python", 
            "version": "3.6.8", 
            "name": "python", 
            "file_extension": ".py", 
            "pygments_lexer": "ipython3", 
            "codemirror_mode": {
                "version": 3, 
                "name": "ipython"
            }
        }
    }, 
    "nbformat": 4
}